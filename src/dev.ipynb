{
 "cells": [
  {
   "cell_type": "code",
   "execution_count": 25,
   "metadata": {},
   "outputs": [],
   "source": [
    "import re\n",
    "from pdfminer.high_level import extract_text\n",
    "import pandas as pd\n",
    "from datetime import datetime\n",
    "import matplotlib.pyplot as plt"
   ]
  },
  {
   "cell_type": "code",
   "execution_count": 62,
   "metadata": {},
   "outputs": [],
   "source": [
    "text = extract_text(\"../sample.pdf\")"
   ]
  },
  {
   "cell_type": "code",
   "execution_count": 56,
   "metadata": {},
   "outputs": [],
   "source": [
    "df = []\n",
    "for line in text.split('\\n'):\n",
    "\n",
    "    if re.match(r\"^\\d{2}\\.\\d{2}\\.\\d{2}\\s\", line):\n",
    "        \n",
    "        transaction = list(filter(None, re.split(r'\\s{2,}', line)))\n",
    "\n",
    "        transaction.insert(2, \"NULL\") if len(transaction) == 4 else next\n",
    "\n",
    "        df.append({\n",
    "            \"DATE\": transaction[0],\n",
    "            \"INFO\": transaction[1],\n",
    "            \"ACC\": transaction[2],\n",
    "            \"AMOUNT\": transaction[3],\n",
    "            \"STATE\": transaction[4]\n",
    "        })"
   ]
  },
  {
   "cell_type": "code",
   "execution_count": null,
   "metadata": {},
   "outputs": [],
   "source": [
    "df = []\n",
    "for line in text.split('\\n'):\n",
    "\n",
    "    if re.match(r\"^\\d{2}\\.\\d{2}\\.\\d{2}\", line):\n",
    "        transaction = re.split(r'\\s{2,}', line)"
   ]
  },
  {
   "cell_type": "code",
   "execution_count": 57,
   "metadata": {},
   "outputs": [
    {
     "name": "stderr",
     "output_type": "stream",
     "text": [
      "C:\\Users\\bracu\\AppData\\Local\\Temp\\ipykernel_10052\\2905340159.py:5: FutureWarning: The default value of regex will change from True to False in a future version. In addition, single character regular expressions will *not* be treated as literal strings when regex=True.\n",
      "  df[\"AMOUNT\"] = df[\"AMOUNT\"].str.replace(\".\", \"\")\n",
      "C:\\Users\\bracu\\AppData\\Local\\Temp\\ipykernel_10052\\2905340159.py:9: FutureWarning: The default value of regex will change from True to False in a future version. In addition, single character regular expressions will *not* be treated as literal strings when regex=True.\n",
      "  df[\"STATE\"] = df[\"STATE\"].str.replace(\".\", \"\")\n"
     ]
    }
   ],
   "source": [
    "\n",
    "df = pd.DataFrame(df)\n",
    "\n",
    "df[\"DATE\"] = pd.to_datetime(df['DATE'], format=\"%d.%m.%y\")\n",
    "\n",
    "df[\"AMOUNT\"] = df[\"AMOUNT\"].str.replace(\".\", \"\")\n",
    "df[\"AMOUNT\"] = df[\"AMOUNT\"].str.replace(\",\", \".\")\n",
    "df[\"AMOUNT\"] = pd.to_numeric(df[\"AMOUNT\"])\n",
    "\n",
    "df[\"STATE\"] = df[\"STATE\"].str.replace(\".\", \"\")\n",
    "df[\"STATE\"] = df[\"STATE\"].str.replace(\",\", \".\")\n",
    "df[\"STATE\"] = pd.to_numeric(df[\"STATE\"])"
   ]
  },
  {
   "cell_type": "code",
   "execution_count": 58,
   "metadata": {},
   "outputs": [
    {
     "data": {
      "text/html": [
       "<div>\n",
       "<style scoped>\n",
       "    .dataframe tbody tr th:only-of-type {\n",
       "        vertical-align: middle;\n",
       "    }\n",
       "\n",
       "    .dataframe tbody tr th {\n",
       "        vertical-align: top;\n",
       "    }\n",
       "\n",
       "    .dataframe thead th {\n",
       "        text-align: right;\n",
       "    }\n",
       "</style>\n",
       "<table border=\"1\" class=\"dataframe\">\n",
       "  <thead>\n",
       "    <tr style=\"text-align: right;\">\n",
       "      <th></th>\n",
       "      <th>DATE</th>\n",
       "      <th>INFO</th>\n",
       "      <th>ACC</th>\n",
       "      <th>AMOUNT</th>\n",
       "      <th>STATE</th>\n",
       "    </tr>\n",
       "  </thead>\n",
       "  <tbody>\n",
       "    <tr>\n",
       "      <th>0</th>\n",
       "      <td>2022-11-29</td>\n",
       "      <td>SUPERMARKET MAXI</td>\n",
       "      <td>NULL</td>\n",
       "      <td>-1.49</td>\n",
       "      <td>1771.74</td>\n",
       "    </tr>\n",
       "    <tr>\n",
       "      <th>1</th>\n",
       "      <td>2022-11-30</td>\n",
       "      <td>SPAR SLOVENCEVA</td>\n",
       "      <td>NULL</td>\n",
       "      <td>-3.60</td>\n",
       "      <td>1768.14</td>\n",
       "    </tr>\n",
       "    <tr>\n",
       "      <th>2</th>\n",
       "      <td>2022-12-01</td>\n",
       "      <td>SLAPNIK URSULA</td>\n",
       "      <td>SI56 0201 0282 0059 626</td>\n",
       "      <td>-8.40</td>\n",
       "      <td>1759.74</td>\n",
       "    </tr>\n",
       "    <tr>\n",
       "      <th>3</th>\n",
       "      <td>2022-12-01</td>\n",
       "      <td>SUPERMARKET MAXI</td>\n",
       "      <td>NULL</td>\n",
       "      <td>-1.69</td>\n",
       "      <td>1758.05</td>\n",
       "    </tr>\n",
       "    <tr>\n",
       "      <th>4</th>\n",
       "      <td>2022-12-01</td>\n",
       "      <td>SPAR SLOVENCEVA</td>\n",
       "      <td>NULL</td>\n",
       "      <td>-6.79</td>\n",
       "      <td>1751.26</td>\n",
       "    </tr>\n",
       "    <tr>\n",
       "      <th>...</th>\n",
       "      <td>...</td>\n",
       "      <td>...</td>\n",
       "      <td>...</td>\n",
       "      <td>...</td>\n",
       "      <td>...</td>\n",
       "    </tr>\n",
       "    <tr>\n",
       "      <th>100</th>\n",
       "      <td>2022-12-30</td>\n",
       "      <td>PROVIZIJA</td>\n",
       "      <td>NULL</td>\n",
       "      <td>-0.40</td>\n",
       "      <td>2216.31</td>\n",
       "    </tr>\n",
       "    <tr>\n",
       "      <th>101</th>\n",
       "      <td>2022-12-30</td>\n",
       "      <td>SPL D.D.</td>\n",
       "      <td>SI56 0292 2002 0148 350</td>\n",
       "      <td>-175.75</td>\n",
       "      <td>2040.56</td>\n",
       "    </tr>\n",
       "    <tr>\n",
       "      <th>102</th>\n",
       "      <td>2022-12-30</td>\n",
       "      <td>PROVIZIJA</td>\n",
       "      <td>NULL</td>\n",
       "      <td>-0.40</td>\n",
       "      <td>2040.16</td>\n",
       "    </tr>\n",
       "    <tr>\n",
       "      <th>103</th>\n",
       "      <td>2022-12-30</td>\n",
       "      <td>TIN NAPRET</td>\n",
       "      <td>SI56 0400 1002 0285 793</td>\n",
       "      <td>10.00</td>\n",
       "      <td>2050.16</td>\n",
       "    </tr>\n",
       "    <tr>\n",
       "      <th>104</th>\n",
       "      <td>2022-12-31</td>\n",
       "      <td>STR VOD. PAKETA</td>\n",
       "      <td>NULL</td>\n",
       "      <td>-1.01</td>\n",
       "      <td>2049.15</td>\n",
       "    </tr>\n",
       "  </tbody>\n",
       "</table>\n",
       "<p>105 rows × 5 columns</p>\n",
       "</div>"
      ],
      "text/plain": [
       "          DATE              INFO                      ACC  AMOUNT    STATE\n",
       "0   2022-11-29  SUPERMARKET MAXI                     NULL   -1.49  1771.74\n",
       "1   2022-11-30   SPAR SLOVENCEVA                     NULL   -3.60  1768.14\n",
       "2   2022-12-01    SLAPNIK URSULA  SI56 0201 0282 0059 626   -8.40  1759.74\n",
       "3   2022-12-01  SUPERMARKET MAXI                     NULL   -1.69  1758.05\n",
       "4   2022-12-01   SPAR SLOVENCEVA                     NULL   -6.79  1751.26\n",
       "..         ...               ...                      ...     ...      ...\n",
       "100 2022-12-30         PROVIZIJA                     NULL   -0.40  2216.31\n",
       "101 2022-12-30          SPL D.D.  SI56 0292 2002 0148 350 -175.75  2040.56\n",
       "102 2022-12-30         PROVIZIJA                     NULL   -0.40  2040.16\n",
       "103 2022-12-30        TIN NAPRET  SI56 0400 1002 0285 793   10.00  2050.16\n",
       "104 2022-12-31   STR VOD. PAKETA                     NULL   -1.01  2049.15\n",
       "\n",
       "[105 rows x 5 columns]"
      ]
     },
     "execution_count": 58,
     "metadata": {},
     "output_type": "execute_result"
    }
   ],
   "source": [
    "df"
   ]
  },
  {
   "cell_type": "code",
   "execution_count": 59,
   "metadata": {},
   "outputs": [
    {
     "data": {
      "image/png": "[encoded data removed]",
      "text/plain": [
       "<Figure size 640x480 with 1 Axes>"
      ]
     },
     "metadata": {},
     "output_type": "display_data"
    }
   ],
   "source": [
    "plt.plot(df[\"DATE\"], df[\"STATE\"])\n",
    "plt.show()"
   ]
  },
  {
   "cell_type": "code",
   "execution_count": 60,
   "metadata": {},
   "outputs": [],
   "source": [
    "df[\"SIGN\"] = [\"PLUS\" if i > 0 else \"MINUS\" for i in df.AMOUNT]"
   ]
  },
  {
   "cell_type": "code",
   "execution_count": 61,
   "metadata": {},
   "outputs": [
    {
     "name": "stderr",
     "output_type": "stream",
     "text": [
      "C:\\Users\\bracu\\AppData\\Local\\Temp\\ipykernel_10052\\2410982931.py:1: FutureWarning: The default value of numeric_only in DataFrameGroupBy.sum is deprecated. In a future version, numeric_only will default to False. Either specify numeric_only or select only columns which should be valid for the function.\n",
      "  df.groupby(\"SIGN\").sum()\n"
     ]
    },
    {
     "data": {
      "text/html": [
       "<div>\n",
       "<style scoped>\n",
       "    .dataframe tbody tr th:only-of-type {\n",
       "        vertical-align: middle;\n",
       "    }\n",
       "\n",
       "    .dataframe tbody tr th {\n",
       "        vertical-align: top;\n",
       "    }\n",
       "\n",
       "    .dataframe thead th {\n",
       "        text-align: right;\n",
       "    }\n",
       "</style>\n",
       "<table border=\"1\" class=\"dataframe\">\n",
       "  <thead>\n",
       "    <tr style=\"text-align: right;\">\n",
       "      <th></th>\n",
       "      <th>AMOUNT</th>\n",
       "      <th>STATE</th>\n",
       "    </tr>\n",
       "    <tr>\n",
       "      <th>SIGN</th>\n",
       "      <th></th>\n",
       "      <th></th>\n",
       "    </tr>\n",
       "  </thead>\n",
       "  <tbody>\n",
       "    <tr>\n",
       "      <th>MINUS</th>\n",
       "      <td>-1996.38</td>\n",
       "      <td>207177.77</td>\n",
       "    </tr>\n",
       "    <tr>\n",
       "      <th>PLUS</th>\n",
       "      <td>2272.30</td>\n",
       "      <td>61527.75</td>\n",
       "    </tr>\n",
       "  </tbody>\n",
       "</table>\n",
       "</div>"
      ],
      "text/plain": [
       "        AMOUNT      STATE\n",
       "SIGN                     \n",
       "MINUS -1996.38  207177.77\n",
       "PLUS   2272.30   61527.75"
      ]
     },
     "execution_count": 61,
     "metadata": {},
     "output_type": "execute_result"
    }
   ],
   "source": [
    "df.groupby(\"SIGN\").sum()"
   ]
  },
  {
   "cell_type": "code",
   "execution_count": 63,
   "metadata": {},
   "outputs": [],
   "source": [
    "df.to_csv(\"df.csv\")"
   ]
  }
 ],
 "metadata": {
  "kernelspec": {
   "display_name": "Python 3",
   "language": "python",
   "name": "python3"
  },
  "language_info": {
   "codemirror_mode": {
    "name": "ipython",
    "version": 3
   },
   "file_extension": ".py",
   "mimetype": "text/x-python",
   "name": "python",
   "nbconvert_exporter": "python",
   "pygments_lexer": "ipython3",
   "version": "3.10.8"
  },
  "orig_nbformat": 4,
  "vscode": {
   "interpreter": {
    "hash": "b7586b7173deeed786d83414db9b0471bd30f00b1c406b70d238b10997343dc1"
   }
  }
 },
 "nbformat": 4,
 "nbformat_minor": 2
}
